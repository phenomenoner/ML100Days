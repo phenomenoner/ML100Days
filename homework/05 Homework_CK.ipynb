{
 "cells": [
  {
   "cell_type": "markdown",
   "metadata": {
    "colab_type": "text",
    "id": "P6xk2_jLsvFF"
   },
   "source": [
    "# [作業目標]\n",
    "\n",
    "1. 產生一個 1-11 的一維陣列，並且把 3-6 由正數變成負數。\n",
    "2. 試著從一個隨機陣列中，找出比 0.5 大的數有幾個？\n",
    "\n"
   ]
  },
  {
   "cell_type": "markdown",
   "metadata": {
    "colab_type": "text",
    "id": "uXGll28asvFS"
   },
   "source": [
    "# 作業 "
   ]
  },
  {
   "cell_type": "markdown",
   "metadata": {},
   "source": [
    "### 1. 產生一個 1-11 的一維陣列，並且把 3-6 由正數變成負數。\n",
    "\n"
   ]
  },
  {
   "cell_type": "code",
   "execution_count": 2,
   "metadata": {},
   "outputs": [],
   "source": [
    "# 記得先 Import 正確的套件\n",
    "\n",
    "import numpy as np"
   ]
  },
  {
   "cell_type": "code",
   "execution_count": 47,
   "metadata": {
    "colab": {},
    "colab_type": "code",
    "id": "5QrYoyNWsvFS"
   },
   "outputs": [
    {
     "name": "stdout",
     "output_type": "stream",
     "text": [
      "[ 1.  2. -3. -4. -5. -6.  7.  8.  9. 10. 11.]\n"
     ]
    }
   ],
   "source": [
    "a = np.arange(1,12)\n",
    "\n",
    "minus_ones = np.ones(11)*-1\n",
    "minus_ones[np.array(a<3) | np.array(a>6)] = 1\n",
    "\n",
    "print(minus_ones * a)"
   ]
  },
  {
   "cell_type": "markdown",
   "metadata": {},
   "source": [
    "### 2. 試著從一個隨機陣列中，找出比 0.5 大的數有幾個？\n",
    "\n"
   ]
  },
  {
   "cell_type": "code",
   "execution_count": 49,
   "metadata": {
    "colab": {},
    "colab_type": "code",
    "id": "e1gVI0tvsvFY"
   },
   "outputs": [
    {
     "name": "stdout",
     "output_type": "stream",
     "text": [
      "[0.54367995 0.8807511  0.75681294 0.60906872 0.59152145 0.78823636\n",
      " 0.96459601 0.93975754 0.62824123]\n"
     ]
    }
   ],
   "source": [
    "A = np.random.rand(3, 6)\n",
    "\n",
    "print(A[A>0.5])"
   ]
  },
  {
   "cell_type": "code",
   "execution_count": null,
   "metadata": {},
   "outputs": [],
   "source": []
  }
 ],
 "metadata": {
  "colab": {
   "name": "Day_023_HW.ipynb",
   "provenance": []
  },
  "kernelspec": {
   "display_name": "Python 3",
   "language": "python",
   "name": "python3"
  },
  "language_info": {
   "codemirror_mode": {
    "name": "ipython",
    "version": 3
   },
   "file_extension": ".py",
   "mimetype": "text/x-python",
   "name": "python",
   "nbconvert_exporter": "python",
   "pygments_lexer": "ipython3",
   "version": "3.8.5"
  }
 },
 "nbformat": 4,
 "nbformat_minor": 1
}
